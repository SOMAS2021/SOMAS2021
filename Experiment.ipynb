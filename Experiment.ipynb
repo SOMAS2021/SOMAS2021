{
 "cells": [
  {
   "cell_type": "code",
   "execution_count": 2,
   "metadata": {},
   "outputs": [],
   "source": [
    "import os\n",
    "import json\n",
    "import pandas as pd\n",
    "import matplotlib.pyplot as plt\n",
    "import numpy as np"
   ]
  },
  {
   "cell_type": "code",
   "execution_count": 5,
   "metadata": {},
   "outputs": [],
   "source": [
    "#using death.json file\n",
    "def lives_vs_daysSurvived(fileName, team):\n",
    "  if not isinstance(team,str):\n",
    "    print(\"Error: Team variable should be a string!\")\n",
    "\n",
    "  dataFrame = pd.read_json(fileName, lines = True)\n",
    "  teamData = dataFrame[dataFrame[\"agent_type\"].str.contains(team)] #extract data for a certain team\n",
    "  ages = teamData[\"ageUponDeath\"].values #convert into numpy\n",
    "  #ages = teamData[\"Age\"].values #convert into numpy\n",
    "  deaths = np.arange(len(ages)) + 1\n",
    "  return deaths, ages \n",
    "\n",
    "#using .csv file\n",
    "def cumulativeRewards(fileName):\n",
    "  data = pd.read_csv(fileName).to_numpy()\n",
    "  day = np.arange(data.size) + 1\n",
    "  return day, data\n",
    "\n",
    "#using death.json file\n",
    "def days_vs_deathPerDay(fileName, simulation_days):\n",
    "  dataFrame = pd.read_json(fileName, lines = True)\n",
    "  day = np.arange(simulation_days) + 1\n",
    "  deathPerDay = np.zeros(simulation_days)\n",
    "\n",
    "  value_count = dataFrame[\"ageUponDeath\"].value_counts()\n",
    "  for n in range(simulation_days):\n",
    "    if n+1 in value_count:\n",
    "      deathPerDay[n] = value_count[n+1]\n",
    "  \n",
    "  return day, deathPerDay"
   ]
  },
  {
   "cell_type": "code",
   "execution_count": null,
   "metadata": {},
   "outputs": [],
   "source": [
    "\n"
   ]
  }
 ],
 "metadata": {
  "interpreter": {
   "hash": "790ada162a4d4fdfa9555b0d227239284dda939c2628384c3ba7c64b5834040d"
  },
  "kernelspec": {
   "display_name": "Python 3.8.8 64-bit ('base': conda)",
   "language": "python",
   "name": "python3"
  },
  "language_info": {
   "codemirror_mode": {
    "name": "ipython",
    "version": 3
   },
   "file_extension": ".py",
   "mimetype": "text/x-python",
   "name": "python",
   "nbconvert_exporter": "python",
   "pygments_lexer": "ipython3",
   "version": "3.8.8"
  },
  "orig_nbformat": 4
 },
 "nbformat": 4,
 "nbformat_minor": 2
}
