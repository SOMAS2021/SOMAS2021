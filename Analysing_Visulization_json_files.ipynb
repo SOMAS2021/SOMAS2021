{
 "cells": [
  {
   "cell_type": "code",
   "execution_count": 1,
   "id": "d797812f",
   "metadata": {},
   "outputs": [],
   "source": [
    "import os\n",
    "#os.chdir(\"./drive/MyDrive/Imperial/SOMAS/Experiments\")\n",
    "#os.chdir(\"./Experiments\")\n",
    "import json\n",
    "import pandas as pd\n",
    "import matplotlib.pyplot as plt\n",
    "import numpy as np\n",
    "\n",
    "#os.getcwd()"
   ]
  },
  {
   "cell_type": "markdown",
   "id": "af9bb33b",
   "metadata": {},
   "source": [
    "# Read from CSV"
   ]
  },
  {
   "cell_type": "code",
   "execution_count": 2,
   "id": "c089d48e",
   "metadata": {},
   "outputs": [],
   "source": [
    "#using death.json file\n",
    "def lives_vs_daysSurvived(fileName, team):\n",
    "  if not isinstance(team,str):\n",
    "    print(\"Error: Team variable should be a string!\")\n",
    "\n",
    "  dataFrame = pd.read_json(fileName, lines = True)\n",
    "  teamData = dataFrame[dataFrame[\"agent_type\"].str.contains(team)] #extract data for a certain team\n",
    "  ages = teamData[\"ageUponDeath\"].values #convert into numpy\n",
    "  #ages = teamData[\"Age\"].values #convert into numpy\n",
    "  deaths = np.arange(len(ages)) + 1\n",
    "  return deaths, ages \n",
    "\n",
    "#using .csv file\n",
    "def cumulativeRewards(fileName):\n",
    "  data = pd.read_csv(fileName).to_numpy()\n",
    "  day = np.arange(data.size) + 1\n",
    "  return day, data\n",
    "\n",
    "#using death.json file\n",
    "def days_vs_deathPerDay(fileName, simulation_days):\n",
    "  dataFrame = pd.read_json(fileName, lines = True)\n",
    "  day = np.arange(simulation_days) + 1\n",
    "  deathPerDay = np.zeros(simulation_days)\n",
    "\n",
    "  value_count = dataFrame[\"ageUponDeath\"].value_counts()\n",
    "  for n in range(simulation_days):\n",
    "    if n+1 in value_count:\n",
    "      deathPerDay[n] = value_count[n+1]\n",
    "  \n",
    "  return day, deathPerDay"
   ]
  },
  {
   "cell_type": "code",
   "execution_count": null,
   "id": "27862516",
   "metadata": {},
   "outputs": [],
   "source": [
    "#plot lives vs days survived\n",
    "fileName = \"analyses/exp_cumulative_rewardslogs2022-01-07-22-06-27.json\"\n",
    "team = \"Team6\"\n",
    "lives, days_survived = lives_vs_daysSurvived(fileName, team)\n",
    "print(len(lives))\n",
    "\n",
    "plt.bar(lives, days_survived, tick_label = lives)\n",
    "#plt.plot(lives, days_survived, color = 'red')\n",
    "#plt.scatter(lives, days_survived, color = 'red')\n",
    "plt.xlabel(\"Deaths\")\n",
    "plt.ylabel(\"Days lived\")\n",
    "plt.title(\"Deaths vs Days lived\")"
   ]
  },
  {
   "cell_type": "code",
   "execution_count": null,
   "id": "e82c6c8f",
   "metadata": {},
   "outputs": [],
   "source": [
    "#Days vs death per day\n",
    "day, deathPerDay = days_vs_deathPerDay(fileName, 10000)\n",
    "#x = day[range(0,200,10)]\n",
    "#y = deathPerDay[range(0,200,10)]\n",
    "\n",
    "plt.bar(day,deathPerDay)\n",
    "plt.xlabel(\"Days\")\n",
    "plt.ylabel(\"Death Per Day\")\n",
    "plt.title(\"Days vs Death per day\")"
   ]
  },
  {
   "cell_type": "code",
   "execution_count": 8,
   "id": "9de9152b",
   "metadata": {},
   "outputs": [
    {
     "data": {
      "text/plain": [
       "[<matplotlib.lines.Line2D at 0x1f6c0798460>]"
      ]
     },
     "execution_count": 8,
     "metadata": {},
     "output_type": "execute_result"
    },
    {
     "data": {
      "image/png": "[encoded data removed]",
      "text/plain": [
       "<Figure size 432x288 with 1 Axes>"
      ]
     },
     "metadata": {
      "needs_background": "light"
     },
     "output_type": "display_data"
    }
   ],
   "source": [
    "#cumulative rewards\n",
    "fileName = \"logs/2022-01-09-16-52-20/cumulative_rewards_a0dbc73d-9170-4e73-9e54-206daf077095.csv\"\n",
    "day, data = cumulativeRewards(fileName)\n",
    "#print(day)\n",
    "#print(data)\n",
    "plt.plot(day,data)"
   ]
  },
  {
   "cell_type": "markdown",
   "id": "2c7012ac",
   "metadata": {},
   "source": [
    "# Read from json"
   ]
  },
  {
   "cell_type": "code",
   "execution_count": 7,
   "id": "2364f15b",
   "metadata": {
    "scrolled": true
   },
   "outputs": [
    {
     "name": "stdout",
     "output_type": "stream",
     "text": [
      "Index(['level', 'msg', 'reporter', 'time', 'type',\n",
      "       'Number of new agents created: ', 'agent_id', 'new_floor', 'old_floor',\n",
      "       'Current Simulation Tick', 'floor', 'food_left', 'agent_type', 'aggr',\n",
      "       'greed', 'hp', 'kind', 'mood', 'morality', 'health', 'message',\n",
      "       'receiver floor', 'request amount', 'sender floor', 'msgType',\n",
      "       'senderFloor', 'targetFloor', 'bType', 'foodTaken', 'amount',\n",
      "       'messageType', 'DaysToWait', 'FoodToEat', 'foodEaten', 'Mood',\n",
      "       'Morality', 'response', 'statement', 'memory', 'food', 'global_trust',\n",
      "       'daysHungry', 'sender_uuid', 'sentmessage_uuid', 'state',\n",
      "       'selected and performed action', 'agentType', 'daysLived',\n",
      "       'sentMsg_Type', 'Food_on_our_level', 'Request_amt',\n",
      "       'Agent Type and number that died', 'agentAge', 'agentID'],\n",
      "      dtype='object')\n"
     ]
    }
   ],
   "source": [
    "t2 = pd.read_json(\"analyses/2022-01-07-11-51-31/main.json\", lines = True)\n",
    "\n",
    "print(t2.columns)"
   ]
  },
  {
   "cell_type": "code",
   "execution_count": null,
   "id": "268fd8f9",
   "metadata": {},
   "outputs": [],
   "source": [
    "import json\n",
    "line_list = []\n",
    "with open('analyses/2022-01-07-11-07-15/main.json') as f:\n",
    "    for line in f:\n",
    "        a_dict = json.loads(line)\n",
    "        df = pd.DataFrame(a_dict).T\n",
    "        line_list.append(df)\n",
    "\n",
    "df = pd.concat(line_list)"
   ]
  },
  {
   "cell_type": "code",
   "execution_count": 11,
   "id": "bb898454",
   "metadata": {
    "scrolled": true
   },
   "outputs": [
    {
     "data": {
      "text/html": [
       "<div>\n",
       "<style scoped>\n",
       "    .dataframe tbody tr th:only-of-type {\n",
       "        vertical-align: middle;\n",
       "    }\n",
       "\n",
       "    .dataframe tbody tr th {\n",
       "        vertical-align: top;\n",
       "    }\n",
       "\n",
       "    .dataframe thead th {\n",
       "        text-align: right;\n",
       "    }\n",
       "</style>\n",
       "<table border=\"1\" class=\"dataframe\">\n",
       "  <thead>\n",
       "    <tr style=\"text-align: right;\">\n",
       "      <th></th>\n",
       "      <th>level</th>\n",
       "      <th>msg</th>\n",
       "      <th>reporter</th>\n",
       "      <th>time</th>\n",
       "      <th>type</th>\n",
       "      <th>Number of new agents created:</th>\n",
       "      <th>agent_id</th>\n",
       "      <th>new_floor</th>\n",
       "      <th>old_floor</th>\n",
       "      <th>Current Simulation Tick</th>\n",
       "      <th>...</th>\n",
       "      <th>state</th>\n",
       "      <th>selected and performed action</th>\n",
       "      <th>agentType</th>\n",
       "      <th>daysLived</th>\n",
       "      <th>sentMsg_Type</th>\n",
       "      <th>Food_on_our_level</th>\n",
       "      <th>Request_amt</th>\n",
       "      <th>Agent Type and number that died</th>\n",
       "      <th>agentAge</th>\n",
       "      <th>agentID</th>\n",
       "    </tr>\n",
       "  </thead>\n",
       "  <tbody>\n",
       "    <tr>\n",
       "      <th>31637</th>\n",
       "      <td>info</td>\n",
       "      <td>Killing agent</td>\n",
       "      <td>agent</td>\n",
       "      <td>2022-01-07T11:51:32Z</td>\n",
       "      <td>NaN</td>\n",
       "      <td>NaN</td>\n",
       "      <td>8e9d9719-81a3-4c8a-a1aa-9658eb3a5df8</td>\n",
       "      <td>NaN</td>\n",
       "      <td>NaN</td>\n",
       "      <td>NaN</td>\n",
       "      <td>...</td>\n",
       "      <td>NaN</td>\n",
       "      <td>NaN</td>\n",
       "      <td>7</td>\n",
       "      <td>9.0</td>\n",
       "      <td>NaN</td>\n",
       "      <td>NaN</td>\n",
       "      <td>NaN</td>\n",
       "      <td>NaN</td>\n",
       "      <td>NaN</td>\n",
       "      <td>NaN</td>\n",
       "    </tr>\n",
       "    <tr>\n",
       "      <th>31639</th>\n",
       "      <td>info</td>\n",
       "      <td>Killing agent</td>\n",
       "      <td>agent</td>\n",
       "      <td>2022-01-07T11:51:32Z</td>\n",
       "      <td>NaN</td>\n",
       "      <td>NaN</td>\n",
       "      <td>396d42cd-31b0-4bb6-ac92-e0e8c50e3f9c</td>\n",
       "      <td>NaN</td>\n",
       "      <td>NaN</td>\n",
       "      <td>NaN</td>\n",
       "      <td>...</td>\n",
       "      <td>NaN</td>\n",
       "      <td>NaN</td>\n",
       "      <td>8</td>\n",
       "      <td>9.0</td>\n",
       "      <td>NaN</td>\n",
       "      <td>NaN</td>\n",
       "      <td>NaN</td>\n",
       "      <td>NaN</td>\n",
       "      <td>NaN</td>\n",
       "      <td>NaN</td>\n",
       "    </tr>\n",
       "    <tr>\n",
       "      <th>63224</th>\n",
       "      <td>info</td>\n",
       "      <td>Killing agent</td>\n",
       "      <td>agent</td>\n",
       "      <td>2022-01-07T11:51:32Z</td>\n",
       "      <td>NaN</td>\n",
       "      <td>NaN</td>\n",
       "      <td>396d42cd-31b0-4bb6-ac92-e0e8c50e3f9c</td>\n",
       "      <td>NaN</td>\n",
       "      <td>NaN</td>\n",
       "      <td>NaN</td>\n",
       "      <td>...</td>\n",
       "      <td>NaN</td>\n",
       "      <td>NaN</td>\n",
       "      <td>8</td>\n",
       "      <td>9.0</td>\n",
       "      <td>NaN</td>\n",
       "      <td>NaN</td>\n",
       "      <td>NaN</td>\n",
       "      <td>NaN</td>\n",
       "      <td>NaN</td>\n",
       "      <td>NaN</td>\n",
       "    </tr>\n",
       "    <tr>\n",
       "      <th>82106</th>\n",
       "      <td>info</td>\n",
       "      <td>Killing agent</td>\n",
       "      <td>agent</td>\n",
       "      <td>2022-01-07T11:51:33Z</td>\n",
       "      <td>NaN</td>\n",
       "      <td>NaN</td>\n",
       "      <td>2d689674-63a7-4255-82fe-5cf17ca32eb2</td>\n",
       "      <td>NaN</td>\n",
       "      <td>NaN</td>\n",
       "      <td>NaN</td>\n",
       "      <td>...</td>\n",
       "      <td>NaN</td>\n",
       "      <td>NaN</td>\n",
       "      <td>8</td>\n",
       "      <td>25.0</td>\n",
       "      <td>NaN</td>\n",
       "      <td>NaN</td>\n",
       "      <td>NaN</td>\n",
       "      <td>NaN</td>\n",
       "      <td>NaN</td>\n",
       "      <td>NaN</td>\n",
       "    </tr>\n",
       "    <tr>\n",
       "      <th>100970</th>\n",
       "      <td>info</td>\n",
       "      <td>Killing agent</td>\n",
       "      <td>agent</td>\n",
       "      <td>2022-01-07T11:51:33Z</td>\n",
       "      <td>NaN</td>\n",
       "      <td>NaN</td>\n",
       "      <td>396d42cd-31b0-4bb6-ac92-e0e8c50e3f9c</td>\n",
       "      <td>NaN</td>\n",
       "      <td>NaN</td>\n",
       "      <td>NaN</td>\n",
       "      <td>...</td>\n",
       "      <td>NaN</td>\n",
       "      <td>NaN</td>\n",
       "      <td>8</td>\n",
       "      <td>11.0</td>\n",
       "      <td>NaN</td>\n",
       "      <td>NaN</td>\n",
       "      <td>NaN</td>\n",
       "      <td>NaN</td>\n",
       "      <td>NaN</td>\n",
       "      <td>NaN</td>\n",
       "    </tr>\n",
       "    <tr>\n",
       "      <th>...</th>\n",
       "      <td>...</td>\n",
       "      <td>...</td>\n",
       "      <td>...</td>\n",
       "      <td>...</td>\n",
       "      <td>...</td>\n",
       "      <td>...</td>\n",
       "      <td>...</td>\n",
       "      <td>...</td>\n",
       "      <td>...</td>\n",
       "      <td>...</td>\n",
       "      <td>...</td>\n",
       "      <td>...</td>\n",
       "      <td>...</td>\n",
       "      <td>...</td>\n",
       "      <td>...</td>\n",
       "      <td>...</td>\n",
       "      <td>...</td>\n",
       "      <td>...</td>\n",
       "      <td>...</td>\n",
       "      <td>...</td>\n",
       "      <td>...</td>\n",
       "    </tr>\n",
       "    <tr>\n",
       "      <th>3063100</th>\n",
       "      <td>info</td>\n",
       "      <td>Killing agent</td>\n",
       "      <td>agent</td>\n",
       "      <td>2022-01-07T11:52:43Z</td>\n",
       "      <td>NaN</td>\n",
       "      <td>NaN</td>\n",
       "      <td>3a768563-a46f-4e05-9ff1-0dee36d182fc</td>\n",
       "      <td>NaN</td>\n",
       "      <td>NaN</td>\n",
       "      <td>NaN</td>\n",
       "      <td>...</td>\n",
       "      <td>NaN</td>\n",
       "      <td>NaN</td>\n",
       "      <td>5</td>\n",
       "      <td>161.0</td>\n",
       "      <td>NaN</td>\n",
       "      <td>NaN</td>\n",
       "      <td>NaN</td>\n",
       "      <td>NaN</td>\n",
       "      <td>NaN</td>\n",
       "      <td>NaN</td>\n",
       "    </tr>\n",
       "    <tr>\n",
       "      <th>3066201</th>\n",
       "      <td>info</td>\n",
       "      <td>Killing agent</td>\n",
       "      <td>agent</td>\n",
       "      <td>2022-01-07T11:52:43Z</td>\n",
       "      <td>NaN</td>\n",
       "      <td>NaN</td>\n",
       "      <td>8e9d9719-81a3-4c8a-a1aa-9658eb3a5df8</td>\n",
       "      <td>NaN</td>\n",
       "      <td>NaN</td>\n",
       "      <td>NaN</td>\n",
       "      <td>...</td>\n",
       "      <td>NaN</td>\n",
       "      <td>NaN</td>\n",
       "      <td>7</td>\n",
       "      <td>12.0</td>\n",
       "      <td>NaN</td>\n",
       "      <td>NaN</td>\n",
       "      <td>NaN</td>\n",
       "      <td>NaN</td>\n",
       "      <td>NaN</td>\n",
       "      <td>NaN</td>\n",
       "    </tr>\n",
       "    <tr>\n",
       "      <th>3066208</th>\n",
       "      <td>info</td>\n",
       "      <td>Killing agent</td>\n",
       "      <td>agent</td>\n",
       "      <td>2022-01-07T11:52:43Z</td>\n",
       "      <td>NaN</td>\n",
       "      <td>NaN</td>\n",
       "      <td>870a86c5-0dc1-478d-bfd7-e2fe96f86ff0</td>\n",
       "      <td>NaN</td>\n",
       "      <td>NaN</td>\n",
       "      <td>NaN</td>\n",
       "      <td>...</td>\n",
       "      <td>NaN</td>\n",
       "      <td>NaN</td>\n",
       "      <td>5</td>\n",
       "      <td>35.0</td>\n",
       "      <td>NaN</td>\n",
       "      <td>NaN</td>\n",
       "      <td>NaN</td>\n",
       "      <td>NaN</td>\n",
       "      <td>NaN</td>\n",
       "      <td>NaN</td>\n",
       "    </tr>\n",
       "    <tr>\n",
       "      <th>3078617</th>\n",
       "      <td>info</td>\n",
       "      <td>Killing agent</td>\n",
       "      <td>agent</td>\n",
       "      <td>2022-01-07T11:52:44Z</td>\n",
       "      <td>NaN</td>\n",
       "      <td>NaN</td>\n",
       "      <td>2782de44-3c9a-4e87-80a6-c44998dc7253</td>\n",
       "      <td>NaN</td>\n",
       "      <td>NaN</td>\n",
       "      <td>NaN</td>\n",
       "      <td>...</td>\n",
       "      <td>NaN</td>\n",
       "      <td>NaN</td>\n",
       "      <td>7</td>\n",
       "      <td>49.0</td>\n",
       "      <td>NaN</td>\n",
       "      <td>NaN</td>\n",
       "      <td>NaN</td>\n",
       "      <td>NaN</td>\n",
       "      <td>NaN</td>\n",
       "      <td>NaN</td>\n",
       "    </tr>\n",
       "    <tr>\n",
       "      <th>3097634</th>\n",
       "      <td>info</td>\n",
       "      <td>Killing agent</td>\n",
       "      <td>agent</td>\n",
       "      <td>2022-01-07T11:52:44Z</td>\n",
       "      <td>NaN</td>\n",
       "      <td>NaN</td>\n",
       "      <td>396d42cd-31b0-4bb6-ac92-e0e8c50e3f9c</td>\n",
       "      <td>NaN</td>\n",
       "      <td>NaN</td>\n",
       "      <td>NaN</td>\n",
       "      <td>...</td>\n",
       "      <td>NaN</td>\n",
       "      <td>NaN</td>\n",
       "      <td>8</td>\n",
       "      <td>24.0</td>\n",
       "      <td>NaN</td>\n",
       "      <td>NaN</td>\n",
       "      <td>NaN</td>\n",
       "      <td>NaN</td>\n",
       "      <td>NaN</td>\n",
       "      <td>NaN</td>\n",
       "    </tr>\n",
       "  </tbody>\n",
       "</table>\n",
       "<p>263 rows × 54 columns</p>\n",
       "</div>"
      ],
      "text/plain": [
       "        level            msg reporter                  time type  \\\n",
       "31637    info  Killing agent    agent  2022-01-07T11:51:32Z  NaN   \n",
       "31639    info  Killing agent    agent  2022-01-07T11:51:32Z  NaN   \n",
       "63224    info  Killing agent    agent  2022-01-07T11:51:32Z  NaN   \n",
       "82106    info  Killing agent    agent  2022-01-07T11:51:33Z  NaN   \n",
       "100970   info  Killing agent    agent  2022-01-07T11:51:33Z  NaN   \n",
       "...       ...            ...      ...                   ...  ...   \n",
       "3063100  info  Killing agent    agent  2022-01-07T11:52:43Z  NaN   \n",
       "3066201  info  Killing agent    agent  2022-01-07T11:52:43Z  NaN   \n",
       "3066208  info  Killing agent    agent  2022-01-07T11:52:43Z  NaN   \n",
       "3078617  info  Killing agent    agent  2022-01-07T11:52:44Z  NaN   \n",
       "3097634  info  Killing agent    agent  2022-01-07T11:52:44Z  NaN   \n",
       "\n",
       "         Number of new agents created:                               agent_id  \\\n",
       "31637                               NaN  8e9d9719-81a3-4c8a-a1aa-9658eb3a5df8   \n",
       "31639                               NaN  396d42cd-31b0-4bb6-ac92-e0e8c50e3f9c   \n",
       "63224                               NaN  396d42cd-31b0-4bb6-ac92-e0e8c50e3f9c   \n",
       "82106                               NaN  2d689674-63a7-4255-82fe-5cf17ca32eb2   \n",
       "100970                              NaN  396d42cd-31b0-4bb6-ac92-e0e8c50e3f9c   \n",
       "...                                 ...                                   ...   \n",
       "3063100                             NaN  3a768563-a46f-4e05-9ff1-0dee36d182fc   \n",
       "3066201                             NaN  8e9d9719-81a3-4c8a-a1aa-9658eb3a5df8   \n",
       "3066208                             NaN  870a86c5-0dc1-478d-bfd7-e2fe96f86ff0   \n",
       "3078617                             NaN  2782de44-3c9a-4e87-80a6-c44998dc7253   \n",
       "3097634                             NaN  396d42cd-31b0-4bb6-ac92-e0e8c50e3f9c   \n",
       "\n",
       "         new_floor  old_floor  Current Simulation Tick  ...  state  \\\n",
       "31637          NaN        NaN                      NaN  ...    NaN   \n",
       "31639          NaN        NaN                      NaN  ...    NaN   \n",
       "63224          NaN        NaN                      NaN  ...    NaN   \n",
       "82106          NaN        NaN                      NaN  ...    NaN   \n",
       "100970         NaN        NaN                      NaN  ...    NaN   \n",
       "...            ...        ...                      ...  ...    ...   \n",
       "3063100        NaN        NaN                      NaN  ...    NaN   \n",
       "3066201        NaN        NaN                      NaN  ...    NaN   \n",
       "3066208        NaN        NaN                      NaN  ...    NaN   \n",
       "3078617        NaN        NaN                      NaN  ...    NaN   \n",
       "3097634        NaN        NaN                      NaN  ...    NaN   \n",
       "\n",
       "         selected and performed action agentType  daysLived  sentMsg_Type  \\\n",
       "31637                              NaN         7        9.0           NaN   \n",
       "31639                              NaN         8        9.0           NaN   \n",
       "63224                              NaN         8        9.0           NaN   \n",
       "82106                              NaN         8       25.0           NaN   \n",
       "100970                             NaN         8       11.0           NaN   \n",
       "...                                ...       ...        ...           ...   \n",
       "3063100                            NaN         5      161.0           NaN   \n",
       "3066201                            NaN         7       12.0           NaN   \n",
       "3066208                            NaN         5       35.0           NaN   \n",
       "3078617                            NaN         7       49.0           NaN   \n",
       "3097634                            NaN         8       24.0           NaN   \n",
       "\n",
       "         Food_on_our_level  Request_amt  Agent Type and number that died  \\\n",
       "31637                  NaN          NaN                              NaN   \n",
       "31639                  NaN          NaN                              NaN   \n",
       "63224                  NaN          NaN                              NaN   \n",
       "82106                  NaN          NaN                              NaN   \n",
       "100970                 NaN          NaN                              NaN   \n",
       "...                    ...          ...                              ...   \n",
       "3063100                NaN          NaN                              NaN   \n",
       "3066201                NaN          NaN                              NaN   \n",
       "3066208                NaN          NaN                              NaN   \n",
       "3078617                NaN          NaN                              NaN   \n",
       "3097634                NaN          NaN                              NaN   \n",
       "\n",
       "         agentAge  agentID  \n",
       "31637         NaN      NaN  \n",
       "31639         NaN      NaN  \n",
       "63224         NaN      NaN  \n",
       "82106         NaN      NaN  \n",
       "100970        NaN      NaN  \n",
       "...           ...      ...  \n",
       "3063100       NaN      NaN  \n",
       "3066201       NaN      NaN  \n",
       "3066208       NaN      NaN  \n",
       "3078617       NaN      NaN  \n",
       "3097634       NaN      NaN  \n",
       "\n",
       "[263 rows x 54 columns]"
      ]
     },
     "execution_count": 11,
     "metadata": {},
     "output_type": "execute_result"
    }
   ],
   "source": [
    "#t_all = pd.read_json(\"analyses/2022-01-05-21-16-45/main.json\", lines = True)\n",
    "#t_all = t2.loc[t2[\"agentType\"] == \"Team2\"]\n",
    "#t_all.head()\n",
    "t_all = t2.loc[t2['msg'] == \"Killing agent\"]\n",
    "#t_all = t_all.loc[t_all['agent_type'] == \"Team2\"]\n",
    "t_all"
   ]
  },
  {
   "cell_type": "markdown",
   "id": "397be69b",
   "metadata": {},
   "source": [
    "1st graph"
   ]
  },
  {
   "cell_type": "code",
   "execution_count": 9,
   "id": "de8da98d",
   "metadata": {},
   "outputs": [
    {
     "ename": "IndexError",
     "evalue": "index 0 is out of bounds for axis 0 with size 0",
     "output_type": "error",
     "traceback": [
      "\u001b[1;31m---------------------------------------------------------------------------\u001b[0m",
      "\u001b[1;31mIndexError\u001b[0m                                Traceback (most recent call last)",
      "\u001b[1;32m<ipython-input-9-c0ae9aee6cd7>\u001b[0m in \u001b[0;36m<module>\u001b[1;34m\u001b[0m\n\u001b[0;32m      4\u001b[0m \u001b[0mplotdata\u001b[0m\u001b[1;33m.\u001b[0m\u001b[0mreset_index\u001b[0m\u001b[1;33m(\u001b[0m\u001b[0minplace\u001b[0m\u001b[1;33m=\u001b[0m\u001b[1;32mTrue\u001b[0m\u001b[1;33m)\u001b[0m\u001b[1;33m\u001b[0m\u001b[1;33m\u001b[0m\u001b[0m\n\u001b[0;32m      5\u001b[0m \u001b[0mplotdata\u001b[0m \u001b[1;33m=\u001b[0m \u001b[0mpd\u001b[0m\u001b[1;33m.\u001b[0m\u001b[0mDataFrame\u001b[0m\u001b[1;33m(\u001b[0m\u001b[0mplotdata\u001b[0m\u001b[1;33m,\u001b[0m \u001b[0mcolumns\u001b[0m \u001b[1;33m=\u001b[0m \u001b[1;33m[\u001b[0m\u001b[1;34m'daysLived'\u001b[0m\u001b[1;33m]\u001b[0m\u001b[1;33m)\u001b[0m\u001b[1;33m\u001b[0m\u001b[1;33m\u001b[0m\u001b[0m\n\u001b[1;32m----> 6\u001b[1;33m \u001b[0mplotdata\u001b[0m\u001b[1;33m.\u001b[0m\u001b[0mplot\u001b[0m\u001b[1;33m(\u001b[0m\u001b[0mkind\u001b[0m\u001b[1;33m=\u001b[0m\u001b[1;34m'bar'\u001b[0m\u001b[1;33m)\u001b[0m\u001b[1;33m\u001b[0m\u001b[1;33m\u001b[0m\u001b[0m\n\u001b[0m",
      "\u001b[1;32m~\\anaconda3\\lib\\site-packages\\pandas\\plotting\\_core.py\u001b[0m in \u001b[0;36m__call__\u001b[1;34m(self, *args, **kwargs)\u001b[0m\n\u001b[0;32m    953\u001b[0m                     \u001b[0mdata\u001b[0m\u001b[1;33m.\u001b[0m\u001b[0mcolumns\u001b[0m \u001b[1;33m=\u001b[0m \u001b[0mlabel_name\u001b[0m\u001b[1;33m\u001b[0m\u001b[1;33m\u001b[0m\u001b[0m\n\u001b[0;32m    954\u001b[0m \u001b[1;33m\u001b[0m\u001b[0m\n\u001b[1;32m--> 955\u001b[1;33m         \u001b[1;32mreturn\u001b[0m \u001b[0mplot_backend\u001b[0m\u001b[1;33m.\u001b[0m\u001b[0mplot\u001b[0m\u001b[1;33m(\u001b[0m\u001b[0mdata\u001b[0m\u001b[1;33m,\u001b[0m \u001b[0mkind\u001b[0m\u001b[1;33m=\u001b[0m\u001b[0mkind\u001b[0m\u001b[1;33m,\u001b[0m \u001b[1;33m**\u001b[0m\u001b[0mkwargs\u001b[0m\u001b[1;33m)\u001b[0m\u001b[1;33m\u001b[0m\u001b[1;33m\u001b[0m\u001b[0m\n\u001b[0m\u001b[0;32m    956\u001b[0m \u001b[1;33m\u001b[0m\u001b[0m\n\u001b[0;32m    957\u001b[0m     \u001b[0m__call__\u001b[0m\u001b[1;33m.\u001b[0m\u001b[0m__doc__\u001b[0m \u001b[1;33m=\u001b[0m \u001b[0m__doc__\u001b[0m\u001b[1;33m\u001b[0m\u001b[1;33m\u001b[0m\u001b[0m\n",
      "\u001b[1;32m~\\anaconda3\\lib\\site-packages\\pandas\\plotting\\_matplotlib\\__init__.py\u001b[0m in \u001b[0;36mplot\u001b[1;34m(data, kind, **kwargs)\u001b[0m\n\u001b[0;32m     59\u001b[0m             \u001b[0mkwargs\u001b[0m\u001b[1;33m[\u001b[0m\u001b[1;34m\"ax\"\u001b[0m\u001b[1;33m]\u001b[0m \u001b[1;33m=\u001b[0m \u001b[0mgetattr\u001b[0m\u001b[1;33m(\u001b[0m\u001b[0max\u001b[0m\u001b[1;33m,\u001b[0m \u001b[1;34m\"left_ax\"\u001b[0m\u001b[1;33m,\u001b[0m \u001b[0max\u001b[0m\u001b[1;33m)\u001b[0m\u001b[1;33m\u001b[0m\u001b[1;33m\u001b[0m\u001b[0m\n\u001b[0;32m     60\u001b[0m     \u001b[0mplot_obj\u001b[0m \u001b[1;33m=\u001b[0m \u001b[0mPLOT_CLASSES\u001b[0m\u001b[1;33m[\u001b[0m\u001b[0mkind\u001b[0m\u001b[1;33m]\u001b[0m\u001b[1;33m(\u001b[0m\u001b[0mdata\u001b[0m\u001b[1;33m,\u001b[0m \u001b[1;33m**\u001b[0m\u001b[0mkwargs\u001b[0m\u001b[1;33m)\u001b[0m\u001b[1;33m\u001b[0m\u001b[1;33m\u001b[0m\u001b[0m\n\u001b[1;32m---> 61\u001b[1;33m     \u001b[0mplot_obj\u001b[0m\u001b[1;33m.\u001b[0m\u001b[0mgenerate\u001b[0m\u001b[1;33m(\u001b[0m\u001b[1;33m)\u001b[0m\u001b[1;33m\u001b[0m\u001b[1;33m\u001b[0m\u001b[0m\n\u001b[0m\u001b[0;32m     62\u001b[0m     \u001b[0mplot_obj\u001b[0m\u001b[1;33m.\u001b[0m\u001b[0mdraw\u001b[0m\u001b[1;33m(\u001b[0m\u001b[1;33m)\u001b[0m\u001b[1;33m\u001b[0m\u001b[1;33m\u001b[0m\u001b[0m\n\u001b[0;32m     63\u001b[0m     \u001b[1;32mreturn\u001b[0m \u001b[0mplot_obj\u001b[0m\u001b[1;33m.\u001b[0m\u001b[0mresult\u001b[0m\u001b[1;33m\u001b[0m\u001b[1;33m\u001b[0m\u001b[0m\n",
      "\u001b[1;32m~\\anaconda3\\lib\\site-packages\\pandas\\plotting\\_matplotlib\\core.py\u001b[0m in \u001b[0;36mgenerate\u001b[1;34m(self)\u001b[0m\n\u001b[0;32m    285\u001b[0m         \u001b[1;32mfor\u001b[0m \u001b[0max\u001b[0m \u001b[1;32min\u001b[0m \u001b[0mself\u001b[0m\u001b[1;33m.\u001b[0m\u001b[0maxes\u001b[0m\u001b[1;33m:\u001b[0m\u001b[1;33m\u001b[0m\u001b[1;33m\u001b[0m\u001b[0m\n\u001b[0;32m    286\u001b[0m             \u001b[0mself\u001b[0m\u001b[1;33m.\u001b[0m\u001b[0m_post_plot_logic_common\u001b[0m\u001b[1;33m(\u001b[0m\u001b[0max\u001b[0m\u001b[1;33m,\u001b[0m \u001b[0mself\u001b[0m\u001b[1;33m.\u001b[0m\u001b[0mdata\u001b[0m\u001b[1;33m)\u001b[0m\u001b[1;33m\u001b[0m\u001b[1;33m\u001b[0m\u001b[0m\n\u001b[1;32m--> 287\u001b[1;33m             \u001b[0mself\u001b[0m\u001b[1;33m.\u001b[0m\u001b[0m_post_plot_logic\u001b[0m\u001b[1;33m(\u001b[0m\u001b[0max\u001b[0m\u001b[1;33m,\u001b[0m \u001b[0mself\u001b[0m\u001b[1;33m.\u001b[0m\u001b[0mdata\u001b[0m\u001b[1;33m)\u001b[0m\u001b[1;33m\u001b[0m\u001b[1;33m\u001b[0m\u001b[0m\n\u001b[0m\u001b[0;32m    288\u001b[0m \u001b[1;33m\u001b[0m\u001b[0m\n\u001b[0;32m    289\u001b[0m     \u001b[1;32mdef\u001b[0m \u001b[0m_args_adjust\u001b[0m\u001b[1;33m(\u001b[0m\u001b[0mself\u001b[0m\u001b[1;33m)\u001b[0m\u001b[1;33m:\u001b[0m\u001b[1;33m\u001b[0m\u001b[1;33m\u001b[0m\u001b[0m\n",
      "\u001b[1;32m~\\anaconda3\\lib\\site-packages\\pandas\\plotting\\_matplotlib\\core.py\u001b[0m in \u001b[0;36m_post_plot_logic\u001b[1;34m(self, ax, data)\u001b[0m\n\u001b[0;32m   1492\u001b[0m         \u001b[0mname\u001b[0m \u001b[1;33m=\u001b[0m \u001b[0mself\u001b[0m\u001b[1;33m.\u001b[0m\u001b[0m_get_index_name\u001b[0m\u001b[1;33m(\u001b[0m\u001b[1;33m)\u001b[0m\u001b[1;33m\u001b[0m\u001b[1;33m\u001b[0m\u001b[0m\n\u001b[0;32m   1493\u001b[0m \u001b[1;33m\u001b[0m\u001b[0m\n\u001b[1;32m-> 1494\u001b[1;33m         \u001b[0ms_edge\u001b[0m \u001b[1;33m=\u001b[0m \u001b[0mself\u001b[0m\u001b[1;33m.\u001b[0m\u001b[0max_pos\u001b[0m\u001b[1;33m[\u001b[0m\u001b[1;36m0\u001b[0m\u001b[1;33m]\u001b[0m \u001b[1;33m-\u001b[0m \u001b[1;36m0.25\u001b[0m \u001b[1;33m+\u001b[0m \u001b[0mself\u001b[0m\u001b[1;33m.\u001b[0m\u001b[0mlim_offset\u001b[0m\u001b[1;33m\u001b[0m\u001b[1;33m\u001b[0m\u001b[0m\n\u001b[0m\u001b[0;32m   1495\u001b[0m         \u001b[0me_edge\u001b[0m \u001b[1;33m=\u001b[0m \u001b[0mself\u001b[0m\u001b[1;33m.\u001b[0m\u001b[0max_pos\u001b[0m\u001b[1;33m[\u001b[0m\u001b[1;33m-\u001b[0m\u001b[1;36m1\u001b[0m\u001b[1;33m]\u001b[0m \u001b[1;33m+\u001b[0m \u001b[1;36m0.25\u001b[0m \u001b[1;33m+\u001b[0m \u001b[0mself\u001b[0m\u001b[1;33m.\u001b[0m\u001b[0mbar_width\u001b[0m \u001b[1;33m+\u001b[0m \u001b[0mself\u001b[0m\u001b[1;33m.\u001b[0m\u001b[0mlim_offset\u001b[0m\u001b[1;33m\u001b[0m\u001b[1;33m\u001b[0m\u001b[0m\n\u001b[0;32m   1496\u001b[0m \u001b[1;33m\u001b[0m\u001b[0m\n",
      "\u001b[1;31mIndexError\u001b[0m: index 0 is out of bounds for axis 0 with size 0"
     ]
    },
    {
     "data": {
      "image/png": "[encoded data removed]",
      "text/plain": [
       "<Figure size 432x288 with 1 Axes>"
      ]
     },
     "metadata": {
      "needs_background": "light"
     },
     "output_type": "display_data"
    }
   ],
   "source": [
    "plotdata = pd.DataFrame(t_all, columns = ['daysLived'])\n",
    "#plotdata = t_all[['agent_type','daysLived']]\n",
    "#plotdata\n",
    "plotdata.reset_index(inplace=True)\n",
    "plotdata = pd.DataFrame(plotdata, columns = ['daysLived'])\n",
    "plotdata.plot(kind='bar')"
   ]
  },
  {
   "cell_type": "markdown",
   "id": "0826d195",
   "metadata": {},
   "source": [
    "2nd Graph All agent - death at daysLived = x"
   ]
  },
  {
   "cell_type": "code",
   "execution_count": null,
   "id": "24572fd6",
   "metadata": {},
   "outputs": [
    {
     "data": {
      "text/plain": [
       "[<matplotlib.lines.Line2D at 0x14ea8349280>]"
      ]
     },
     "execution_count": 5,
     "metadata": {},
     "output_type": "execute_result"
    },
    {
     "data": {
      "image/png": "[encoded data removed]",
      "text/plain": [
       "<Figure size 432x288 with 1 Axes>"
      ]
     },
     "metadata": {
      "needs_background": "light"
     },
     "output_type": "display_data"
    }
   ],
   "source": [
    "P2 = t2.loc[t2['msg'] == \"Killing agent\"]\n",
    "plotdata = pd.DataFrame(P2, columns = ['agent_type','daysLived'])\n",
    "#indexedData = plotdata.set_index('daysLived')\n",
    "#indexedData.sort_index(ascending=True)\n",
    "#indexedData.plot(kind='bar')\n",
    "SumArray = [0]* (int(max(plotdata['daysLived']))+1)\n",
    "for index, row in plotdata.iterrows():\n",
    "    #print(row['daysLived'])\n",
    "    SumArray[int(row['daysLived'])] = SumArray[int(row['daysLived'])] + 1\n",
    "plt.plot(SumArray)"
   ]
  },
  {
   "cell_type": "markdown",
   "id": "f3d9d6d5",
   "metadata": {},
   "source": [
    "3rd Graph "
   ]
  },
  {
   "cell_type": "code",
   "execution_count": 12,
   "id": "948564cf",
   "metadata": {},
   "outputs": [
    {
     "ename": "IndexError",
     "evalue": "index 0 is out of bounds for axis 0 with size 0",
     "output_type": "error",
     "traceback": [
      "\u001b[1;31m---------------------------------------------------------------------------\u001b[0m",
      "\u001b[1;31mIndexError\u001b[0m                                Traceback (most recent call last)",
      "\u001b[1;32m<ipython-input-12-3c0c540f1b4c>\u001b[0m in \u001b[0;36m<module>\u001b[1;34m\u001b[0m\n\u001b[0;32m     16\u001b[0m \"\"\"\n\u001b[0;32m     17\u001b[0m \u001b[0mPD\u001b[0m \u001b[1;33m=\u001b[0m \u001b[0mplotdata\u001b[0m\u001b[1;33m[\u001b[0m\u001b[0midx\u001b[0m\u001b[1;33m]\u001b[0m\u001b[1;33m\u001b[0m\u001b[1;33m\u001b[0m\u001b[0m\n\u001b[1;32m---> 18\u001b[1;33m \u001b[0mPD\u001b[0m\u001b[1;33m.\u001b[0m\u001b[0mplot\u001b[0m\u001b[1;33m(\u001b[0m\u001b[0mkind\u001b[0m\u001b[1;33m=\u001b[0m\u001b[1;34m'bar'\u001b[0m\u001b[1;33m)\u001b[0m\u001b[1;33m\u001b[0m\u001b[1;33m\u001b[0m\u001b[0m\n\u001b[0m",
      "\u001b[1;32m~\\anaconda3\\lib\\site-packages\\pandas\\plotting\\_core.py\u001b[0m in \u001b[0;36m__call__\u001b[1;34m(self, *args, **kwargs)\u001b[0m\n\u001b[0;32m    953\u001b[0m                     \u001b[0mdata\u001b[0m\u001b[1;33m.\u001b[0m\u001b[0mcolumns\u001b[0m \u001b[1;33m=\u001b[0m \u001b[0mlabel_name\u001b[0m\u001b[1;33m\u001b[0m\u001b[1;33m\u001b[0m\u001b[0m\n\u001b[0;32m    954\u001b[0m \u001b[1;33m\u001b[0m\u001b[0m\n\u001b[1;32m--> 955\u001b[1;33m         \u001b[1;32mreturn\u001b[0m \u001b[0mplot_backend\u001b[0m\u001b[1;33m.\u001b[0m\u001b[0mplot\u001b[0m\u001b[1;33m(\u001b[0m\u001b[0mdata\u001b[0m\u001b[1;33m,\u001b[0m \u001b[0mkind\u001b[0m\u001b[1;33m=\u001b[0m\u001b[0mkind\u001b[0m\u001b[1;33m,\u001b[0m \u001b[1;33m**\u001b[0m\u001b[0mkwargs\u001b[0m\u001b[1;33m)\u001b[0m\u001b[1;33m\u001b[0m\u001b[1;33m\u001b[0m\u001b[0m\n\u001b[0m\u001b[0;32m    956\u001b[0m \u001b[1;33m\u001b[0m\u001b[0m\n\u001b[0;32m    957\u001b[0m     \u001b[0m__call__\u001b[0m\u001b[1;33m.\u001b[0m\u001b[0m__doc__\u001b[0m \u001b[1;33m=\u001b[0m \u001b[0m__doc__\u001b[0m\u001b[1;33m\u001b[0m\u001b[1;33m\u001b[0m\u001b[0m\n",
      "\u001b[1;32m~\\anaconda3\\lib\\site-packages\\pandas\\plotting\\_matplotlib\\__init__.py\u001b[0m in \u001b[0;36mplot\u001b[1;34m(data, kind, **kwargs)\u001b[0m\n\u001b[0;32m     59\u001b[0m             \u001b[0mkwargs\u001b[0m\u001b[1;33m[\u001b[0m\u001b[1;34m\"ax\"\u001b[0m\u001b[1;33m]\u001b[0m \u001b[1;33m=\u001b[0m \u001b[0mgetattr\u001b[0m\u001b[1;33m(\u001b[0m\u001b[0max\u001b[0m\u001b[1;33m,\u001b[0m \u001b[1;34m\"left_ax\"\u001b[0m\u001b[1;33m,\u001b[0m \u001b[0max\u001b[0m\u001b[1;33m)\u001b[0m\u001b[1;33m\u001b[0m\u001b[1;33m\u001b[0m\u001b[0m\n\u001b[0;32m     60\u001b[0m     \u001b[0mplot_obj\u001b[0m \u001b[1;33m=\u001b[0m \u001b[0mPLOT_CLASSES\u001b[0m\u001b[1;33m[\u001b[0m\u001b[0mkind\u001b[0m\u001b[1;33m]\u001b[0m\u001b[1;33m(\u001b[0m\u001b[0mdata\u001b[0m\u001b[1;33m,\u001b[0m \u001b[1;33m**\u001b[0m\u001b[0mkwargs\u001b[0m\u001b[1;33m)\u001b[0m\u001b[1;33m\u001b[0m\u001b[1;33m\u001b[0m\u001b[0m\n\u001b[1;32m---> 61\u001b[1;33m     \u001b[0mplot_obj\u001b[0m\u001b[1;33m.\u001b[0m\u001b[0mgenerate\u001b[0m\u001b[1;33m(\u001b[0m\u001b[1;33m)\u001b[0m\u001b[1;33m\u001b[0m\u001b[1;33m\u001b[0m\u001b[0m\n\u001b[0m\u001b[0;32m     62\u001b[0m     \u001b[0mplot_obj\u001b[0m\u001b[1;33m.\u001b[0m\u001b[0mdraw\u001b[0m\u001b[1;33m(\u001b[0m\u001b[1;33m)\u001b[0m\u001b[1;33m\u001b[0m\u001b[1;33m\u001b[0m\u001b[0m\n\u001b[0;32m     63\u001b[0m     \u001b[1;32mreturn\u001b[0m \u001b[0mplot_obj\u001b[0m\u001b[1;33m.\u001b[0m\u001b[0mresult\u001b[0m\u001b[1;33m\u001b[0m\u001b[1;33m\u001b[0m\u001b[0m\n",
      "\u001b[1;32m~\\anaconda3\\lib\\site-packages\\pandas\\plotting\\_matplotlib\\core.py\u001b[0m in \u001b[0;36mgenerate\u001b[1;34m(self)\u001b[0m\n\u001b[0;32m    285\u001b[0m         \u001b[1;32mfor\u001b[0m \u001b[0max\u001b[0m \u001b[1;32min\u001b[0m \u001b[0mself\u001b[0m\u001b[1;33m.\u001b[0m\u001b[0maxes\u001b[0m\u001b[1;33m:\u001b[0m\u001b[1;33m\u001b[0m\u001b[1;33m\u001b[0m\u001b[0m\n\u001b[0;32m    286\u001b[0m             \u001b[0mself\u001b[0m\u001b[1;33m.\u001b[0m\u001b[0m_post_plot_logic_common\u001b[0m\u001b[1;33m(\u001b[0m\u001b[0max\u001b[0m\u001b[1;33m,\u001b[0m \u001b[0mself\u001b[0m\u001b[1;33m.\u001b[0m\u001b[0mdata\u001b[0m\u001b[1;33m)\u001b[0m\u001b[1;33m\u001b[0m\u001b[1;33m\u001b[0m\u001b[0m\n\u001b[1;32m--> 287\u001b[1;33m             \u001b[0mself\u001b[0m\u001b[1;33m.\u001b[0m\u001b[0m_post_plot_logic\u001b[0m\u001b[1;33m(\u001b[0m\u001b[0max\u001b[0m\u001b[1;33m,\u001b[0m \u001b[0mself\u001b[0m\u001b[1;33m.\u001b[0m\u001b[0mdata\u001b[0m\u001b[1;33m)\u001b[0m\u001b[1;33m\u001b[0m\u001b[1;33m\u001b[0m\u001b[0m\n\u001b[0m\u001b[0;32m    288\u001b[0m \u001b[1;33m\u001b[0m\u001b[0m\n\u001b[0;32m    289\u001b[0m     \u001b[1;32mdef\u001b[0m \u001b[0m_args_adjust\u001b[0m\u001b[1;33m(\u001b[0m\u001b[0mself\u001b[0m\u001b[1;33m)\u001b[0m\u001b[1;33m:\u001b[0m\u001b[1;33m\u001b[0m\u001b[1;33m\u001b[0m\u001b[0m\n",
      "\u001b[1;32m~\\anaconda3\\lib\\site-packages\\pandas\\plotting\\_matplotlib\\core.py\u001b[0m in \u001b[0;36m_post_plot_logic\u001b[1;34m(self, ax, data)\u001b[0m\n\u001b[0;32m   1492\u001b[0m         \u001b[0mname\u001b[0m \u001b[1;33m=\u001b[0m \u001b[0mself\u001b[0m\u001b[1;33m.\u001b[0m\u001b[0m_get_index_name\u001b[0m\u001b[1;33m(\u001b[0m\u001b[1;33m)\u001b[0m\u001b[1;33m\u001b[0m\u001b[1;33m\u001b[0m\u001b[0m\n\u001b[0;32m   1493\u001b[0m \u001b[1;33m\u001b[0m\u001b[0m\n\u001b[1;32m-> 1494\u001b[1;33m         \u001b[0ms_edge\u001b[0m \u001b[1;33m=\u001b[0m \u001b[0mself\u001b[0m\u001b[1;33m.\u001b[0m\u001b[0max_pos\u001b[0m\u001b[1;33m[\u001b[0m\u001b[1;36m0\u001b[0m\u001b[1;33m]\u001b[0m \u001b[1;33m-\u001b[0m \u001b[1;36m0.25\u001b[0m \u001b[1;33m+\u001b[0m \u001b[0mself\u001b[0m\u001b[1;33m.\u001b[0m\u001b[0mlim_offset\u001b[0m\u001b[1;33m\u001b[0m\u001b[1;33m\u001b[0m\u001b[0m\n\u001b[0m\u001b[0;32m   1495\u001b[0m         \u001b[0me_edge\u001b[0m \u001b[1;33m=\u001b[0m \u001b[0mself\u001b[0m\u001b[1;33m.\u001b[0m\u001b[0max_pos\u001b[0m\u001b[1;33m[\u001b[0m\u001b[1;33m-\u001b[0m\u001b[1;36m1\u001b[0m\u001b[1;33m]\u001b[0m \u001b[1;33m+\u001b[0m \u001b[1;36m0.25\u001b[0m \u001b[1;33m+\u001b[0m \u001b[0mself\u001b[0m\u001b[1;33m.\u001b[0m\u001b[0mbar_width\u001b[0m \u001b[1;33m+\u001b[0m \u001b[0mself\u001b[0m\u001b[1;33m.\u001b[0m\u001b[0mlim_offset\u001b[0m\u001b[1;33m\u001b[0m\u001b[1;33m\u001b[0m\u001b[0m\n\u001b[0;32m   1496\u001b[0m \u001b[1;33m\u001b[0m\u001b[0m\n",
      "\u001b[1;31mIndexError\u001b[0m: index 0 is out of bounds for axis 0 with size 0"
     ]
    },
    {
     "data": {
      "image/png": "[encoded data removed]",
      "text/plain": [
       "<Figure size 432x288 with 1 Axes>"
      ]
     },
     "metadata": {
      "needs_background": "light"
     },
     "output_type": "display_data"
    }
   ],
   "source": [
    "t_all = t2.loc[t2['msg'] == \"Agent team2 at critical state\"]\n",
    "#t_all = t_all.loc[t_all['agent_type'] == \"Team2\"]\n",
    "plotdata = pd.DataFrame(t_all, columns = ['agent_id','daysAtCriticalCounter'])\n",
    "#plotdata = t_all[['agent_type','daysLived']]\n",
    "#plotdata\n",
    "#plotdata.set_index('agent_id')\n",
    "#plotdata.groupby('agent_id', sort = False).max()\n",
    "#plotdata.iloc[plotdata.groupby('agent_id').apply(lambda x: x['daysAtCriticalCounter'].idxmax())]\n",
    "#plotdata.groupby(['agent_id'], sort=False)['daysAtCriticalCounter'].max()\n",
    "idx = plotdata.groupby(['agent_id'])['daysAtCriticalCounter'].transform(max) == plotdata['daysAtCriticalCounter']\n",
    "#df[idx]\n",
    "\"\"\"\n",
    "plotdata.reset_index(inplace=True)\n",
    "plotdata = pd.DataFrame(plotdata, columns = ['daysLived'])\n",
    "plotdata.plot(kind='bar')\n",
    "\"\"\"\n",
    "PD = plotdata[idx]\n",
    "PD.plot(kind='bar')"
   ]
  },
  {
   "cell_type": "code",
   "execution_count": 9,
   "id": "4bbae0d0",
   "metadata": {},
   "outputs": [
    {
     "name": "stdout",
     "output_type": "stream",
     "text": [
      "Index(['ageUponDeath', 'agent_type', 'cumulativeDeaths', 'day', 'level', 'msg',\n",
      "       'tick', 'time'],\n",
      "      dtype='object')\n"
     ]
    }
   ],
   "source": [
    "# Use death instead\n",
    "td = pd.read_json(\"logs/2022-01-09-16-52-20/death.json\", lines = True)\n",
    "\n",
    "print(td.columns)"
   ]
  },
  {
   "cell_type": "markdown",
   "id": "8e568d30",
   "metadata": {},
   "source": [
    "4th graph - Lived day vs average day live for an agent"
   ]
  },
  {
   "cell_type": "code",
   "execution_count": 10,
   "id": "495925d4",
   "metadata": {},
   "outputs": [
    {
     "data": {
      "text/html": [
       "<div>\n",
       "<style scoped>\n",
       "    .dataframe tbody tr th:only-of-type {\n",
       "        vertical-align: middle;\n",
       "    }\n",
       "\n",
       "    .dataframe tbody tr th {\n",
       "        vertical-align: top;\n",
       "    }\n",
       "\n",
       "    .dataframe thead th {\n",
       "        text-align: right;\n",
       "    }\n",
       "</style>\n",
       "<table border=\"1\" class=\"dataframe\">\n",
       "  <thead>\n",
       "    <tr style=\"text-align: right;\">\n",
       "      <th></th>\n",
       "      <th>ageUponDeath</th>\n",
       "      <th>agent_type</th>\n",
       "      <th>cumulativeDeaths</th>\n",
       "      <th>day</th>\n",
       "      <th>level</th>\n",
       "      <th>msg</th>\n",
       "      <th>tick</th>\n",
       "      <th>time</th>\n",
       "    </tr>\n",
       "  </thead>\n",
       "  <tbody>\n",
       "    <tr>\n",
       "      <th>36</th>\n",
       "      <td>109</td>\n",
       "      <td>Team2</td>\n",
       "      <td>37</td>\n",
       "      <td>111</td>\n",
       "      <td>info</td>\n",
       "      <td></td>\n",
       "      <td>15400</td>\n",
       "      <td>2022-01-09T16:52:35Z</td>\n",
       "    </tr>\n",
       "    <tr>\n",
       "      <th>71</th>\n",
       "      <td>211</td>\n",
       "      <td>Team2</td>\n",
       "      <td>72</td>\n",
       "      <td>213</td>\n",
       "      <td>info</td>\n",
       "      <td></td>\n",
       "      <td>29680</td>\n",
       "      <td>2022-01-09T16:52:48Z</td>\n",
       "    </tr>\n",
       "  </tbody>\n",
       "</table>\n",
       "</div>"
      ],
      "text/plain": [
       "    ageUponDeath agent_type  cumulativeDeaths  day level msg   tick  \\\n",
       "36           109      Team2                37  111  info      15400   \n",
       "71           211      Team2                72  213  info      29680   \n",
       "\n",
       "                    time  \n",
       "36  2022-01-09T16:52:35Z  \n",
       "71  2022-01-09T16:52:48Z  "
      ]
     },
     "execution_count": 10,
     "metadata": {},
     "output_type": "execute_result"
    }
   ],
   "source": [
    "t_all = td.loc[td['agent_type'] == \"Team2\"]\n",
    "#t_all = t_all.loc[t_all['agent_type'] == \"Team2\"]\n",
    "t_all"
   ]
  },
  {
   "cell_type": "code",
   "execution_count": 11,
   "id": "c2f50a72",
   "metadata": {},
   "outputs": [
    {
     "data": {
      "text/plain": [
       "<AxesSubplot:>"
      ]
     },
     "execution_count": 11,
     "metadata": {},
     "output_type": "execute_result"
    },
    {
     "data": {
      "image/png": "[encoded data removed]",
      "text/plain": [
       "<Figure size 432x288 with 1 Axes>"
      ]
     },
     "metadata": {
      "needs_background": "light"
     },
     "output_type": "display_data"
    }
   ],
   "source": [
    "plotdata = pd.DataFrame(t_all, columns = ['ageUponDeath'])\n",
    "plotdata.reset_index(inplace=True)\n",
    "plotdata = pd.DataFrame(plotdata, columns = ['ageUponDeath'])\n",
    "plotdata.plot(kind='bar')"
   ]
  },
  {
   "cell_type": "code",
   "execution_count": 12,
   "id": "efad8e08",
   "metadata": {},
   "outputs": [
    {
     "data": {
      "text/plain": [
       "<AxesSubplot:>"
      ]
     },
     "execution_count": 12,
     "metadata": {},
     "output_type": "execute_result"
    },
    {
     "data": {
      "image/png": "[encoded data removed]",
      "text/plain": [
       "<Figure size 432x288 with 1 Axes>"
      ]
     },
     "metadata": {
      "needs_background": "light"
     },
     "output_type": "display_data"
    }
   ],
   "source": [
    "plotdata = pd.DataFrame(t_all, columns = ['ageUponDeath'])\n",
    "plotdata.reset_index(inplace=True)\n",
    "plotdata = pd.DataFrame(plotdata, columns = ['ageUponDeath'])\n",
    "mean_day_lived = plotdata['ageUponDeath'].mean()\n",
    "plotdata = plotdata['ageUponDeath']/mean_day_lived\n",
    "plotdata.plot(x='index',kind='bar')"
   ]
  },
  {
   "cell_type": "code",
   "execution_count": 13,
   "id": "7ca6b2a4",
   "metadata": {},
   "outputs": [
    {
     "data": {
      "text/plain": [
       "<AxesSubplot:xlabel='agent_type'>"
      ]
     },
     "execution_count": 13,
     "metadata": {},
     "output_type": "execute_result"
    },
    {
     "data": {
      "image/png": "[encoded data removed]",
      "text/plain": [
       "<Figure size 432x288 with 1 Axes>"
      ]
     },
     "metadata": {
      "needs_background": "light"
     },
     "output_type": "display_data"
    }
   ],
   "source": [
    "# max survive days over each agent\n",
    "t_all = td\n",
    "plotdata = pd.DataFrame(t_all, columns = ['agent_type','ageUponDeath'])\n",
    "idx = plotdata.groupby(['agent_type'])['ageUponDeath'].transform(max) == plotdata['ageUponDeath']\n",
    "PD = plotdata[idx]\n",
    "PD.plot(x='agent_type',kind='bar')"
   ]
  },
  {
   "cell_type": "code",
   "execution_count": 14,
   "id": "9d7ef610",
   "metadata": {},
   "outputs": [
    {
     "data": {
      "text/plain": [
       "<AxesSubplot:xlabel='agent_type'>"
      ]
     },
     "execution_count": 14,
     "metadata": {},
     "output_type": "execute_result"
    },
    {
     "data": {
      "image/png": "[encoded data removed]",
      "text/plain": [
       "<Figure size 432x288 with 1 Axes>"
      ]
     },
     "metadata": {
      "needs_background": "light"
     },
     "output_type": "display_data"
    }
   ],
   "source": [
    "# mean day survive per agent\n",
    "t_all = td\n",
    "plotdata = pd.DataFrame(t_all, columns = ['agent_type','ageUponDeath'])\n",
    "A_sorted = plotdata.sort_values([\"agent_type\"], ascending=True)\n",
    "A_sorted = A_sorted.groupby(['agent_type'])['ageUponDeath'].mean()\n",
    "#PD = plotdata[idx]\n",
    "#plotdata\n",
    "A_sorted.plot(x='agent_type',kind='bar')"
   ]
  },
  {
   "cell_type": "code",
   "execution_count": null,
   "id": "8a72441a",
   "metadata": {},
   "outputs": [],
   "source": []
  }
 ],
 "metadata": {
  "interpreter": {
   "hash": "344656c6016b7921ac5c2936527ce8092136786e3055fe30f9babf9114d9a927"
  },
  "kernelspec": {
   "display_name": "Python 3.8.8 64-bit ('base': conda)",
   "name": "python3"
  },
  "language_info": {
   "codemirror_mode": {
    "name": "ipython",
    "version": 3
   },
   "file_extension": ".py",
   "mimetype": "text/x-python",
   "name": "python",
   "nbconvert_exporter": "python",
   "pygments_lexer": "ipython3",
   "version": "3.8.8"
  }
 },
 "nbformat": 4,
 "nbformat_minor": 5
}
